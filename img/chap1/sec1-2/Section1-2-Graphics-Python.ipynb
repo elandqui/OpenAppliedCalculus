{
 "cells": [
  {
   "cell_type": "code",
   "execution_count": 1,
   "metadata": {},
   "outputs": [],
   "source": [
    "oacmaroon='#800000'"
   ]
  },
  {
   "cell_type": "code",
   "execution_count": 2,
   "metadata": {},
   "outputs": [
    {
     "data": {
      "text/plain": [
       "<Figure size 640x480 with 1 Axes>"
      ]
     },
     "metadata": {},
     "output_type": "display_data"
    }
   ],
   "source": [
    "import matplotlib.pyplot as plt\n",
    "\n",
    "plt.xlabel('$a$: age (years)')\n",
    "plt.ylabel('$h$: height (inches)')\n",
    "xdata=[4, 5, 6, 7, 8, 9, 10]\n",
    "ydata=[40, 42, 44, 47, 50, 52, 54]\n",
    "plt.scatter(xdata, ydata, s=120, c=oacmaroon, edgecolors=oacmaroon, zorder=3)\n",
    "plt.rcParams.update({'font.size': 20})\n",
    "plt.grid(True, c=\"black\")\n",
    "plt.show()\n",
    "fig = plt.figure()\n",
    "# fig.savefig(\"table1-1.png\") # Saving using this command doesn't work."
   ]
  },
  {
   "cell_type": "code",
   "execution_count": 3,
   "metadata": {},
   "outputs": [
    {
     "data": {
      "image/png": "[encoded data removed]",
      "text/plain": [
       "<Figure size 432x288 with 1 Axes>"
      ]
     },
     "metadata": {},
     "output_type": "display_data"
    },
    {
     "data": {
      "text/plain": [
       "<Figure size 432x288 with 0 Axes>"
      ]
     },
     "metadata": {},
     "output_type": "display_data"
    }
   ],
   "source": [
    "plt.xlabel('$d$: diameter (inches)')\n",
    "plt.ylabel('$p$: price (dollars)')\n",
    "xdata=[10, 12, 14, 16]\n",
    "ydata=[7, 9, 12, 16]\n",
    "plt.scatter(xdata, ydata, s=120, c=oacmaroon, edgecolors=oacmaroon, zorder=3)\n",
    "plt.rcParams.update({'font.size': 20})\n",
    "plt.grid(True, c=\"black\")\n",
    "plt.show()\n",
    "fig = plt.figure()"
   ]
  },
  {
   "cell_type": "code",
   "execution_count": null,
   "metadata": {},
   "outputs": [],
   "source": []
  }
 ],
 "metadata": {
  "kernelspec": {
   "display_name": "Python 3",
   "language": "python",
   "name": "python3"
  },
  "language_info": {
   "codemirror_mode": {
    "name": "ipython",
    "version": 3
   },
   "file_extension": ".py",
   "mimetype": "text/x-python",
   "name": "python",
   "nbconvert_exporter": "python",
   "pygments_lexer": "ipython3",
   "version": "3.7.3"
  }
 },
 "nbformat": 4,
 "nbformat_minor": 1
}
